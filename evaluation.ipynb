{
 "cells": [
  {
   "cell_type": "code",
   "execution_count": 1,
   "metadata": {},
   "outputs": [],
   "source": [
    "%matplotlib inline\n",
    "import matplotlib.pyplot as plt\n",
    "import sys\n",
    "import os\n",
    "import pandas as pd\n",
    "import numpy as np"
   ]
  },
  {
   "cell_type": "code",
   "execution_count": 2,
   "metadata": {},
   "outputs": [],
   "source": [
    "import matplotlib"
   ]
  },
  {
   "cell_type": "code",
   "execution_count": null,
   "metadata": {},
   "outputs": [],
   "source": [
    "train_file = \"\"\n",
    "test_file = \"\"\n",
    "content_file = \"\""
   ]
  },
  {
   "cell_type": "code",
   "execution_count": 3,
   "metadata": {},
   "outputs": [],
   "source": [
    "data_train = pd.read_csv(\n",
    "    train_file,\n",
    "    sep=\";\",\n",
    "    quotechar=\"|\",\n",
    "    header=None,\n",
    "    names=['user', 'item', 'rating', 'time'],\n",
    "    index_col=False\n",
    ")"
   ]
  },
  {
   "cell_type": "code",
   "execution_count": 4,
   "metadata": {},
   "outputs": [],
   "source": [
    "freqs = data_train.item.value_counts()"
   ]
  },
  {
   "cell_type": "code",
   "execution_count": 5,
   "metadata": {},
   "outputs": [],
   "source": [
    "content = pd.read_csv(content_file, sep=' ', names=['item','category','category_name'])"
   ]
  },
  {
   "cell_type": "markdown",
   "metadata": {},
   "source": [
    "# random init"
   ]
  },
  {
   "cell_type": "code",
   "execution_count": 6,
   "metadata": {},
   "outputs": [],
   "source": [
    "random_log = pd.read_csv('logs/gru4rec_random.csv')\n",
    "random_log['rank'] = (200-random_log['rank'])\n",
    "random_log['mpr'] = random_log['rank']/200\n",
    "random_log['ndcg'] = (random_log['rank']<=20)/np.log2(random_log['rank']+1)\n",
    "random_log['recall'] = (random_log['rank']<=20)"
   ]
  },
  {
   "cell_type": "code",
   "execution_count": 7,
   "metadata": {},
   "outputs": [
    {
     "data": {
      "text/plain": [
       "(30.311717002237135,\n",
       " 0.15155858501119662,\n",
       " 0.3215363670532131,\n",
       " 0.6196868008948546)"
      ]
     },
     "execution_count": 7,
     "metadata": {},
     "output_type": "execute_result"
    }
   ],
   "source": [
    "random_log['rank'].mean(), random_log['mpr'].mean(), random_log['ndcg'].mean(), random_log['recall'].mean()"
   ]
  },
  {
   "cell_type": "markdown",
   "metadata": {},
   "source": [
    "# gru4rec best results (content filter)"
   ]
  },
  {
   "cell_type": "code",
   "execution_count": 8,
   "metadata": {},
   "outputs": [],
   "source": [
    "gru4rec_log = pd.read_csv('logs/gru4rec.csv')\n",
    "gru4rec_log['rank'] = (200-gru4rec_log['rank'])\n",
    "gru4rec_log['mpr'] = gru4rec_log['rank']/200\n",
    "gru4rec_log['ndcg'] = (gru4rec_log['rank']<=20)/np.log2(gru4rec_log['rank']+1)\n",
    "gru4rec_log['recall'] = (gru4rec_log['rank']<=20)"
   ]
  },
  {
   "cell_type": "code",
   "execution_count": 9,
   "metadata": {},
   "outputs": [
    {
     "data": {
      "text/plain": [
       "(17.87410514541387, 0.0893705257270769, 0.4667572174685208, 0.7986017897091723)"
      ]
     },
     "execution_count": 9,
     "metadata": {},
     "output_type": "execute_result"
    }
   ],
   "source": [
    "gru4rec_log['rank'].mean(), gru4rec_log['mpr'].mean(), gru4rec_log['ndcg'].mean(), gru4rec_log['recall'].mean()"
   ]
  },
  {
   "cell_type": "markdown",
   "metadata": {},
   "source": [
    "# fisher best results (content filter)"
   ]
  },
  {
   "cell_type": "code",
   "execution_count": 10,
   "metadata": {},
   "outputs": [],
   "source": [
    "combined_order = pd.read_csv('logs/combined_order_filtered.csv')\n",
    "jaccard_scores = np.load('logs/jaccard_scores.npy')\n",
    "content_scores = np.load('logs/content_scores.npy')"
   ]
  },
  {
   "cell_type": "code",
   "execution_count": 11,
   "metadata": {},
   "outputs": [],
   "source": [
    "jaccard_ranks = 200-(jaccard_scores[:,0].reshape(-1,1) > jaccard_scores[:,1:]).sum(axis=1)+(jaccard_scores[:,0].reshape(-1,1) == jaccard_scores[:,1:]).sum(axis=1)/2\n",
    "content_ranks = 200-(content_scores[:,0].reshape(-1,1) > content_scores[:,1:]).sum(axis=1)+(content_scores[:,0].reshape(-1,1) == content_scores[:,1:]).sum(axis=1)/2"
   ]
  },
  {
   "cell_type": "code",
   "execution_count": 12,
   "metadata": {},
   "outputs": [],
   "source": [
    "combined_order['jaccard_rank'] = jaccard_ranks\n",
    "combined_order['content_rank'] = content_ranks\n",
    "combined_order['jaccard_mpr'] = jaccard_ranks/200\n",
    "combined_order['content_mpr'] = content_ranks/200\n",
    "combined_order['jaccard_ndcg'] = (jaccard_ranks<=20)/np.log2(jaccard_ranks+1)\n",
    "combined_order['content_ndcg'] = (content_ranks<=20)/np.log2(content_ranks+1)\n",
    "combined_order['jaccard_recall'] = (jaccard_ranks<=20)\n",
    "combined_order['content_recall'] = (content_ranks<=20)"
   ]
  },
  {
   "cell_type": "code",
   "execution_count": 13,
   "metadata": {},
   "outputs": [
    {
     "data": {
      "text/plain": [
       "(16.886549217002237,\n",
       " 0.0844327460850164,\n",
       " 0.4371108225461014,\n",
       " 0.7963087248322148)"
      ]
     },
     "execution_count": 13,
     "metadata": {},
     "output_type": "execute_result"
    }
   ],
   "source": [
    "combined_order['jaccard_rank'].mean(), combined_order['jaccard_mpr'].mean(), combined_order['jaccard_ndcg'].mean(), combined_order['jaccard_recall'].mean()"
   ]
  },
  {
   "cell_type": "code",
   "execution_count": 14,
   "metadata": {},
   "outputs": [
    {
     "data": {
      "text/plain": [
       "(19.77435682326622,\n",
       " 0.09887178411634072,\n",
       " 0.40216626668512934,\n",
       " 0.7557606263982103)"
      ]
     },
     "execution_count": 14,
     "metadata": {},
     "output_type": "execute_result"
    }
   ],
   "source": [
    "combined_order['content_rank'].mean(), combined_order['content_mpr'].mean(), combined_order['content_ndcg'].mean(), combined_order['content_recall'].mean()"
   ]
  },
  {
   "cell_type": "markdown",
   "metadata": {},
   "source": [
    "# fisher collaborative+content combination"
   ]
  },
  {
   "cell_type": "code",
   "execution_count": 15,
   "metadata": {},
   "outputs": [
    {
     "name": "stdout",
     "output_type": "stream",
     "text": [
      "0.00 \t 0.08443274608501118 \t 0.43711082254609157\n",
      "0.05 \t 0.08326775727069352 \t 0.4396123652012863\n",
      "0.10 \t 0.0823709451901566 \t 0.44082982888687733\n",
      "0.15 \t 0.0816631711409396 \t 0.44240652681382325\n",
      "0.20 \t 0.08112597874720358 \t 0.4431599272768691\n",
      "0.25 \t 0.0807767058165548 \t 0.444166907808287\n",
      "0.30 \t 0.08065254474272932 \t 0.44451797168660073\n",
      "0.35 \t 0.08064779082774048 \t 0.4438780538515514\n",
      "0.40 \t 0.08084689597315436 \t 0.44382054401192983\n",
      "0.45 \t 0.0812216163310962 \t 0.44255849235350164\n",
      "0.50 \t 0.08174286912751677 \t 0.44130544113762643\n",
      "0.55 \t 0.08248447986577181 \t 0.43933159604209404\n",
      "0.60 \t 0.08337038590604028 \t 0.4366192892966379\n",
      "0.65 \t 0.08438576621923938 \t 0.43335857631032876\n",
      "0.70 \t 0.08570008389261745 \t 0.4298894307798901\n",
      "0.75 \t 0.08717547539149889 \t 0.4260497757008261\n",
      "0.80 \t 0.08887402125279642 \t 0.4213706975737074\n",
      "0.85 \t 0.09092239932885907 \t 0.4165406839305081\n",
      "0.90 \t 0.09322888702460849 \t 0.4122675022322873\n",
      "0.95 \t 0.09586703020134228 \t 0.40723999926411275\n",
      "1.00 \t 0.0988717841163311 \t 0.4021662666851198\n"
     ]
    }
   ],
   "source": [
    "mprs = []\n",
    "ndcgs = []\n",
    "for a in np.linspace(0,1,21):\n",
    "    scores = a*content_scores + (1-a)*jaccard_scores\n",
    "    ranks = 200-(scores[:,0].reshape(-1,1) > scores[:,1:]).sum(axis=1)+(scores[:,0].reshape(-1,1) == scores[:,1:]).sum(axis=1)/2\n",
    "    mprs.append(ranks.mean()/200)\n",
    "    ndcgs.append(((ranks<=20)/np.log2(ranks+1)).mean())\n",
    "    print(\"%.2f\"%a, \"\\t\", mprs[-1], \"\\t\", ndcgs[-1])"
   ]
  },
  {
   "cell_type": "code",
   "execution_count": 16,
   "metadata": {},
   "outputs": [
    {
     "data": {
      "text/plain": [
       "Text(0.5, 0, 'Weight of content score')"
      ]
     },
     "execution_count": 16,
     "metadata": {},
     "output_type": "execute_result"
    },
    {
     "data": {
      "image/png": "[encoded data removed]",
      "text/plain": [
       "<Figure size 936x432 with 1 Axes>"
      ]
     },
     "metadata": {
      "needs_background": "light"
     },
     "output_type": "display_data"
    }
   ],
   "source": [
    "plt.figure(figsize=(13,6))\n",
    "gr4rec_mpr_mean = gru4rec_log['mpr'].mean()\n",
    "#plt.figure(figsize=(8,5))\n",
    "plt.plot(np.linspace(0,1,21), mprs, label=\"combination\",\n",
    "             marker='X',\n",
    "             #fillstyle=\"none\",\n",
    "             markeredgecolor='black',\n",
    "             markeredgewidth=0.6,\n",
    "             markersize=7,\n",
    "             alpha=0.6,\n",
    "             #linewidth=1\n",
    ")\n",
    "plt.plot(np.linspace(0,1,21), [gr4rec_mpr_mean]*21, label=\"gru4rec baseline\")\n",
    "plt.legend()\n",
    "plt.ylabel('MPR')\n",
    "plt.xlabel('Weight of content score')\n",
    "#plt.savefig(\"figs/combination.pdf\", bbox_inches='tight')"
   ]
  },
  {
   "cell_type": "code",
   "execution_count": 17,
   "metadata": {},
   "outputs": [
    {
     "data": {
      "text/plain": [
       "Text(0.5, 0, 'weight of content score')"
      ]
     },
     "execution_count": 17,
     "metadata": {},
     "output_type": "execute_result"
    },
    {
     "data": {
      "image/png": "[encoded data removed]",
      "text/plain": [
       "<Figure size 576x360 with 1 Axes>"
      ]
     },
     "metadata": {
      "needs_background": "light"
     },
     "output_type": "display_data"
    }
   ],
   "source": [
    "gr4rec_ndcg_mean = gru4rec_log['ndcg'].mean()\n",
    "plt.figure(figsize=(8,5))\n",
    "plt.plot(np.linspace(0,1,21), ndcgs, label=\"combination\")\n",
    "plt.plot(np.linspace(0,1,21), [gr4rec_ndcg_mean]*21, label=\"gru4rec\")\n",
    "plt.ylabel('ndcg')\n",
    "plt.xlabel('weight of content score')"
   ]
  },
  {
   "cell_type": "code",
   "execution_count": 18,
   "metadata": {},
   "outputs": [],
   "source": [
    "a=0.35\n",
    "scores = a*content_scores + (1-a)*jaccard_scores\n",
    "ranks = 200-(scores[:,0].reshape(-1,1) > scores[:,1:]).sum(axis=1)+(scores[:,0].reshape(-1,1) == scores[:,1:]).sum(axis=1)/2"
   ]
  },
  {
   "cell_type": "code",
   "execution_count": 19,
   "metadata": {},
   "outputs": [],
   "source": [
    "combined_order['combined_rank'] = ranks\n",
    "combined_order['combined_mpr'] = ranks/200\n",
    "combined_order['combined_ndcg'] = ((ranks<=20)/np.log2(ranks+1))\n",
    "combined_order['combined_recall'] = (ranks<=20)"
   ]
  },
  {
   "cell_type": "code",
   "execution_count": 20,
   "metadata": {},
   "outputs": [
    {
     "data": {
      "text/plain": [
       "(0.08064779082774479, 0.4438780538515632, 0.801565995525727)"
      ]
     },
     "execution_count": 20,
     "metadata": {},
     "output_type": "execute_result"
    }
   ],
   "source": [
    "combined_order['combined_mpr'].mean(), combined_order['combined_ndcg'].mean(), combined_order['combined_recall'].mean()"
   ]
  }
 ],
 "metadata": {
  "kernelspec": {
   "display_name": "Python 3",
   "language": "python",
   "name": "python3"
  },
  "language_info": {
   "codemirror_mode": {
    "name": "ipython",
    "version": 3
   },
   "file_extension": ".py",
   "mimetype": "text/x-python",
   "name": "python",
   "nbconvert_exporter": "python",
   "pygments_lexer": "ipython3",
   "version": "3.6.7"
  }
 },
 "nbformat": 4,
 "nbformat_minor": 2
}
